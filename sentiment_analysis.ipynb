{
  "nbformat": 4,
  "nbformat_minor": 0,
  "metadata": {
    "colab": {
      "provenance": []
    },
    "kernelspec": {
      "name": "python3",
      "display_name": "Python 3"
    },
    "language_info": {
      "name": "python"
    },
    "widgets": {
      "application/vnd.jupyter.widget-state+json": {
        "e5181e68cb8d490b82ff7449188c581c": {
          "model_module": "@jupyter-widgets/controls",
          "model_name": "HBoxModel",
          "model_module_version": "1.5.0",
          "state": {
            "_dom_classes": [],
            "_model_module": "@jupyter-widgets/controls",
            "_model_module_version": "1.5.0",
            "_model_name": "HBoxModel",
            "_view_count": null,
            "_view_module": "@jupyter-widgets/controls",
            "_view_module_version": "1.5.0",
            "_view_name": "HBoxView",
            "box_style": "",
            "children": [
              "IPY_MODEL_d67745b1421440c3a3d83907e60a243d",
              "IPY_MODEL_2d63e7e332a94483848ea8e19c5004d8",
              "IPY_MODEL_dc43e7333711405d92600c22edf7b850"
            ],
            "layout": "IPY_MODEL_d9a671fbd5484afc8ad73ce8a000cdf0"
          }
        },
        "d67745b1421440c3a3d83907e60a243d": {
          "model_module": "@jupyter-widgets/controls",
          "model_name": "HTMLModel",
          "model_module_version": "1.5.0",
          "state": {
            "_dom_classes": [],
            "_model_module": "@jupyter-widgets/controls",
            "_model_module_version": "1.5.0",
            "_model_name": "HTMLModel",
            "_view_count": null,
            "_view_module": "@jupyter-widgets/controls",
            "_view_module_version": "1.5.0",
            "_view_name": "HTMLView",
            "description": "",
            "description_tooltip": null,
            "layout": "IPY_MODEL_0413541a5af44a0cafe38f02440d71cf",
            "placeholder": "​",
            "style": "IPY_MODEL_7ea64044dc374f09b6a4ce9c93905284",
            "value": "100%"
          }
        },
        "2d63e7e332a94483848ea8e19c5004d8": {
          "model_module": "@jupyter-widgets/controls",
          "model_name": "FloatProgressModel",
          "model_module_version": "1.5.0",
          "state": {
            "_dom_classes": [],
            "_model_module": "@jupyter-widgets/controls",
            "_model_module_version": "1.5.0",
            "_model_name": "FloatProgressModel",
            "_view_count": null,
            "_view_module": "@jupyter-widgets/controls",
            "_view_module_version": "1.5.0",
            "_view_name": "ProgressView",
            "bar_style": "success",
            "description": "",
            "description_tooltip": null,
            "layout": "IPY_MODEL_aec2455bd9034ba082371fb68bb8613f",
            "max": 12000,
            "min": 0,
            "orientation": "horizontal",
            "style": "IPY_MODEL_976ac37d9c7840039f098b792e9c5240",
            "value": 12000
          }
        },
        "dc43e7333711405d92600c22edf7b850": {
          "model_module": "@jupyter-widgets/controls",
          "model_name": "HTMLModel",
          "model_module_version": "1.5.0",
          "state": {
            "_dom_classes": [],
            "_model_module": "@jupyter-widgets/controls",
            "_model_module_version": "1.5.0",
            "_model_name": "HTMLModel",
            "_view_count": null,
            "_view_module": "@jupyter-widgets/controls",
            "_view_module_version": "1.5.0",
            "_view_name": "HTMLView",
            "description": "",
            "description_tooltip": null,
            "layout": "IPY_MODEL_d154c7dd7ac642f68e820fa9d38c63b8",
            "placeholder": "​",
            "style": "IPY_MODEL_e09e1f6aedd54aa793ffa6eed5564f2a",
            "value": " 12000/12000 [28:15&lt;00:00, 10.79it/s]"
          }
        },
        "d9a671fbd5484afc8ad73ce8a000cdf0": {
          "model_module": "@jupyter-widgets/base",
          "model_name": "LayoutModel",
          "model_module_version": "1.2.0",
          "state": {
            "_model_module": "@jupyter-widgets/base",
            "_model_module_version": "1.2.0",
            "_model_name": "LayoutModel",
            "_view_count": null,
            "_view_module": "@jupyter-widgets/base",
            "_view_module_version": "1.2.0",
            "_view_name": "LayoutView",
            "align_content": null,
            "align_items": null,
            "align_self": null,
            "border": null,
            "bottom": null,
            "display": null,
            "flex": null,
            "flex_flow": null,
            "grid_area": null,
            "grid_auto_columns": null,
            "grid_auto_flow": null,
            "grid_auto_rows": null,
            "grid_column": null,
            "grid_gap": null,
            "grid_row": null,
            "grid_template_areas": null,
            "grid_template_columns": null,
            "grid_template_rows": null,
            "height": null,
            "justify_content": null,
            "justify_items": null,
            "left": null,
            "margin": null,
            "max_height": null,
            "max_width": null,
            "min_height": null,
            "min_width": null,
            "object_fit": null,
            "object_position": null,
            "order": null,
            "overflow": null,
            "overflow_x": null,
            "overflow_y": null,
            "padding": null,
            "right": null,
            "top": null,
            "visibility": null,
            "width": null
          }
        },
        "0413541a5af44a0cafe38f02440d71cf": {
          "model_module": "@jupyter-widgets/base",
          "model_name": "LayoutModel",
          "model_module_version": "1.2.0",
          "state": {
            "_model_module": "@jupyter-widgets/base",
            "_model_module_version": "1.2.0",
            "_model_name": "LayoutModel",
            "_view_count": null,
            "_view_module": "@jupyter-widgets/base",
            "_view_module_version": "1.2.0",
            "_view_name": "LayoutView",
            "align_content": null,
            "align_items": null,
            "align_self": null,
            "border": null,
            "bottom": null,
            "display": null,
            "flex": null,
            "flex_flow": null,
            "grid_area": null,
            "grid_auto_columns": null,
            "grid_auto_flow": null,
            "grid_auto_rows": null,
            "grid_column": null,
            "grid_gap": null,
            "grid_row": null,
            "grid_template_areas": null,
            "grid_template_columns": null,
            "grid_template_rows": null,
            "height": null,
            "justify_content": null,
            "justify_items": null,
            "left": null,
            "margin": null,
            "max_height": null,
            "max_width": null,
            "min_height": null,
            "min_width": null,
            "object_fit": null,
            "object_position": null,
            "order": null,
            "overflow": null,
            "overflow_x": null,
            "overflow_y": null,
            "padding": null,
            "right": null,
            "top": null,
            "visibility": null,
            "width": null
          }
        },
        "7ea64044dc374f09b6a4ce9c93905284": {
          "model_module": "@jupyter-widgets/controls",
          "model_name": "DescriptionStyleModel",
          "model_module_version": "1.5.0",
          "state": {
            "_model_module": "@jupyter-widgets/controls",
            "_model_module_version": "1.5.0",
            "_model_name": "DescriptionStyleModel",
            "_view_count": null,
            "_view_module": "@jupyter-widgets/base",
            "_view_module_version": "1.2.0",
            "_view_name": "StyleView",
            "description_width": ""
          }
        },
        "aec2455bd9034ba082371fb68bb8613f": {
          "model_module": "@jupyter-widgets/base",
          "model_name": "LayoutModel",
          "model_module_version": "1.2.0",
          "state": {
            "_model_module": "@jupyter-widgets/base",
            "_model_module_version": "1.2.0",
            "_model_name": "LayoutModel",
            "_view_count": null,
            "_view_module": "@jupyter-widgets/base",
            "_view_module_version": "1.2.0",
            "_view_name": "LayoutView",
            "align_content": null,
            "align_items": null,
            "align_self": null,
            "border": null,
            "bottom": null,
            "display": null,
            "flex": null,
            "flex_flow": null,
            "grid_area": null,
            "grid_auto_columns": null,
            "grid_auto_flow": null,
            "grid_auto_rows": null,
            "grid_column": null,
            "grid_gap": null,
            "grid_row": null,
            "grid_template_areas": null,
            "grid_template_columns": null,
            "grid_template_rows": null,
            "height": null,
            "justify_content": null,
            "justify_items": null,
            "left": null,
            "margin": null,
            "max_height": null,
            "max_width": null,
            "min_height": null,
            "min_width": null,
            "object_fit": null,
            "object_position": null,
            "order": null,
            "overflow": null,
            "overflow_x": null,
            "overflow_y": null,
            "padding": null,
            "right": null,
            "top": null,
            "visibility": null,
            "width": null
          }
        },
        "976ac37d9c7840039f098b792e9c5240": {
          "model_module": "@jupyter-widgets/controls",
          "model_name": "ProgressStyleModel",
          "model_module_version": "1.5.0",
          "state": {
            "_model_module": "@jupyter-widgets/controls",
            "_model_module_version": "1.5.0",
            "_model_name": "ProgressStyleModel",
            "_view_count": null,
            "_view_module": "@jupyter-widgets/base",
            "_view_module_version": "1.2.0",
            "_view_name": "StyleView",
            "bar_color": null,
            "description_width": ""
          }
        },
        "d154c7dd7ac642f68e820fa9d38c63b8": {
          "model_module": "@jupyter-widgets/base",
          "model_name": "LayoutModel",
          "model_module_version": "1.2.0",
          "state": {
            "_model_module": "@jupyter-widgets/base",
            "_model_module_version": "1.2.0",
            "_model_name": "LayoutModel",
            "_view_count": null,
            "_view_module": "@jupyter-widgets/base",
            "_view_module_version": "1.2.0",
            "_view_name": "LayoutView",
            "align_content": null,
            "align_items": null,
            "align_self": null,
            "border": null,
            "bottom": null,
            "display": null,
            "flex": null,
            "flex_flow": null,
            "grid_area": null,
            "grid_auto_columns": null,
            "grid_auto_flow": null,
            "grid_auto_rows": null,
            "grid_column": null,
            "grid_gap": null,
            "grid_row": null,
            "grid_template_areas": null,
            "grid_template_columns": null,
            "grid_template_rows": null,
            "height": null,
            "justify_content": null,
            "justify_items": null,
            "left": null,
            "margin": null,
            "max_height": null,
            "max_width": null,
            "min_height": null,
            "min_width": null,
            "object_fit": null,
            "object_position": null,
            "order": null,
            "overflow": null,
            "overflow_x": null,
            "overflow_y": null,
            "padding": null,
            "right": null,
            "top": null,
            "visibility": null,
            "width": null
          }
        },
        "e09e1f6aedd54aa793ffa6eed5564f2a": {
          "model_module": "@jupyter-widgets/controls",
          "model_name": "DescriptionStyleModel",
          "model_module_version": "1.5.0",
          "state": {
            "_model_module": "@jupyter-widgets/controls",
            "_model_module_version": "1.5.0",
            "_model_name": "DescriptionStyleModel",
            "_view_count": null,
            "_view_module": "@jupyter-widgets/base",
            "_view_module_version": "1.2.0",
            "_view_name": "StyleView",
            "description_width": ""
          }
        }
      }
    }
  },
  "cells": [
    {
      "cell_type": "markdown",
      "source": [
        "## Import Library yang diperlukan"
      ],
      "metadata": {
        "id": "94eNrOdF-5j_"
      }
    },
    {
      "cell_type": "code",
      "execution_count": null,
      "metadata": {
        "colab": {
          "base_uri": "https://localhost:8080/"
        },
        "id": "jfcIt8spnp6u",
        "outputId": "40703afe-4469-4a55-d558-d0694c505f25"
      },
      "outputs": [
        {
          "output_type": "stream",
          "name": "stderr",
          "text": [
            "[nltk_data] Downloading package punkt to /root/nltk_data...\n",
            "[nltk_data]   Unzipping tokenizers/punkt.zip.\n",
            "[nltk_data] Downloading package stopwords to /root/nltk_data...\n",
            "[nltk_data]   Unzipping corpora/stopwords.zip.\n"
          ]
        },
        {
          "output_type": "execute_result",
          "data": {
            "text/plain": [
              "True"
            ]
          },
          "metadata": {},
          "execution_count": 3
        }
      ],
      "source": [
        "# Install library yang sudah ada\n",
        "import pandas as pd\n",
        "import numpy as np\n",
        "import matplotlib.pyplot as plt\n",
        "import seaborn as sns\n",
        "\n",
        "# Import Library yang diperlukan\n",
        "from sklearn.model_selection import train_test_split\n",
        "from sklearn.feature_extraction.text import TfidfVectorizer\n",
        "from sklearn.preprocessing import LabelEncoder\n",
        "from sklearn.metrics import accuracy_score, classification_report\n",
        "from sklearn.svm import SVC\n",
        "from sklearn.ensemble import RandomForestClassifier\n",
        "\n",
        "import nltk\n",
        "from nltk.corpus import stopwords\n",
        "from nltk.tokenize import word_tokenize\n",
        "import string\n",
        "import re\n",
        "\n",
        "import tensorflow as tf\n",
        "from tensorflow.keras.preprocessing.text import Tokenizer\n",
        "from tensorflow.keras.preprocessing.sequence import pad_sequences\n",
        "from tensorflow.keras.models import Sequential\n",
        "from tensorflow.keras.layers import Embedding, LSTM, Dense, Dropout\n",
        "\n",
        "nltk.download('punkt')\n",
        "nltk.download('stopwords')"
      ]
    },
    {
      "cell_type": "markdown",
      "source": [
        "## Labelling dan preprocessing data"
      ],
      "metadata": {
        "id": "kpog95uV_BZM"
      }
    },
    {
      "cell_type": "code",
      "source": [
        "# Install library yang sudah ada\n",
        "from transformers import pipeline, AutoTokenizer\n",
        "import pandas as pd\n",
        "from tqdm.notebook import tqdm\n",
        "\n",
        "# Load dataset\n",
        "df = pd.read_csv('scrapped_comments.csv')\n",
        "df.dropna(inplace=True)\n",
        "df = df.head(12000).copy()\n",
        "\n",
        "# Load pipeline dan tokenizer\n",
        "model_name = \"w11wo/indonesian-roberta-base-sentiment-classifier\"\n",
        "sentiment_pipeline = pipeline(\"text-classification\", model=model_name)\n",
        "tokenizer = AutoTokenizer.from_pretrained(model_name)\n",
        "\n",
        "# Mapping label\n",
        "label_mapping = {\n",
        "    'negative': 'negatif',\n",
        "    'neutral': 'netral',\n",
        "    'positive': 'positif'\n",
        "}\n",
        "\n",
        "# Fungsi klasifikasi dengan batasan token\n",
        "def get_label(text):\n",
        "    tokens = tokenizer(text, max_length=512, truncation=True, return_tensors=\"pt\")\n",
        "    truncated_text = tokenizer.decode(tokens['input_ids'][0], skip_special_tokens=True)\n",
        "    result = sentiment_pipeline(truncated_text)[0]\n",
        "    return label_mapping[result['label']]\n",
        "\n",
        "# Tambahkan progress bar ke apply\n",
        "tqdm.pandas()\n",
        "df['label'] = df['comments'].progress_apply(get_label)\n",
        "\n",
        "# Simpan hasil\n",
        "df = df[['comments', 'label']]\n",
        "df.to_csv('labeled_comments.csv', index=False)\n",
        "print(\"File saved as labeled_comments.csv ✅\")\n"
      ],
      "metadata": {
        "colab": {
          "base_uri": "https://localhost:8080/",
          "height": 84,
          "referenced_widgets": [
            "e5181e68cb8d490b82ff7449188c581c",
            "d67745b1421440c3a3d83907e60a243d",
            "2d63e7e332a94483848ea8e19c5004d8",
            "dc43e7333711405d92600c22edf7b850",
            "d9a671fbd5484afc8ad73ce8a000cdf0",
            "0413541a5af44a0cafe38f02440d71cf",
            "7ea64044dc374f09b6a4ce9c93905284",
            "aec2455bd9034ba082371fb68bb8613f",
            "976ac37d9c7840039f098b792e9c5240",
            "d154c7dd7ac642f68e820fa9d38c63b8",
            "e09e1f6aedd54aa793ffa6eed5564f2a"
          ]
        },
        "id": "ESFLeJ8qnvpO",
        "outputId": "25946c42-d0da-495b-cc36-e025abcabfdc"
      },
      "execution_count": null,
      "outputs": [
        {
          "output_type": "stream",
          "name": "stderr",
          "text": [
            "Device set to use cpu\n"
          ]
        },
        {
          "output_type": "display_data",
          "data": {
            "text/plain": [
              "  0%|          | 0/12000 [00:00<?, ?it/s]"
            ],
            "application/vnd.jupyter.widget-view+json": {
              "version_major": 2,
              "version_minor": 0,
              "model_id": "e5181e68cb8d490b82ff7449188c581c"
            }
          },
          "metadata": {}
        },
        {
          "output_type": "stream",
          "name": "stdout",
          "text": [
            "File saved as labeled_comments.csv ✅\n"
          ]
        }
      ]
    },
    {
      "cell_type": "code",
      "source": [
        "# Import Library yang diperlukan\n",
        "import re\n",
        "from sklearn.preprocessing import LabelEncoder\n",
        "from sklearn.model_selection import train_test_split\n",
        "\n",
        "# Bersihkan teks\n",
        "def clean_text(text):\n",
        "    text = text.lower()\n",
        "    text = re.sub(r\"http\\S+\", \"\", text)               # Hapus link\n",
        "    text = re.sub(r\"@\\w+\", \"\", text)                  # Hapus mention\n",
        "    text = re.sub(r\"[^\\x00-\\x7F]+\", \"\", text)         # Hapus emoji & karakter non-ASCII\n",
        "    text = re.sub(r\"[^a-zA-Z\\s]\", \"\", text)           # Hapus karakter selain huruf\n",
        "    return text\n",
        "\n",
        "# Terapkan ke data\n",
        "df['cleaned'] = df['comments'].apply(clean_text)\n",
        "\n",
        "# Encode label\n",
        "le = LabelEncoder()\n",
        "df['label_enc'] = le.fit_transform(df['label'])  # 0=negatif, 1=netral, 2=positif\n",
        "\n",
        "# Hapus baris kosong setelah preprocessing\n",
        "df = df[df['cleaned'].str.strip().astype(bool)]\n",
        "df.dropna(subset=['cleaned'], inplace=True)\n",
        "df = df[df['cleaned'].str.strip() != '']\n",
        "\n",
        "# Simpan ulang\n",
        "df.to_csv('labeled_comments.csv', index=False)\n",
        "print(f\"Jumlah dataset akhir: {len(df)} sampel\")\n"
      ],
      "metadata": {
        "colab": {
          "base_uri": "https://localhost:8080/"
        },
        "id": "FOvu1URj3JjX",
        "outputId": "a4b9c89e-2322-4007-a534-6a96a895c527"
      },
      "execution_count": null,
      "outputs": [
        {
          "output_type": "stream",
          "name": "stdout",
          "text": [
            "Jumlah dataset akhir: 11817 sampel\n"
          ]
        }
      ]
    },
    {
      "cell_type": "markdown",
      "source": [
        "## Text Classification menggunakan FastText dan LSTM"
      ],
      "metadata": {
        "id": "UMiRX1EVfVZd"
      }
    },
    {
      "cell_type": "code",
      "source": [
        "pip install fasttext scikit-learn pandas"
      ],
      "metadata": {
        "colab": {
          "base_uri": "https://localhost:8080/"
        },
        "id": "WXlipOn-uvp1",
        "outputId": "8a41c6d6-f081-48f6-aa7a-2efc6eb15c2d"
      },
      "execution_count": null,
      "outputs": [
        {
          "output_type": "stream",
          "name": "stdout",
          "text": [
            "Collecting fasttext\n",
            "  Downloading fasttext-0.9.3.tar.gz (73 kB)\n",
            "\u001b[?25l     \u001b[90m━━━━━━━━━━━━━━━━━━━━━━━━━━━━━━━━━━━━━━━━\u001b[0m \u001b[32m0.0/73.4 kB\u001b[0m \u001b[31m?\u001b[0m eta \u001b[36m-:--:--\u001b[0m\r\u001b[2K     \u001b[90m━━━━━━━━━━━━━━━━━━━━━━━━━━━━━━━━━━━━━━━━\u001b[0m \u001b[32m73.4/73.4 kB\u001b[0m \u001b[31m2.0 MB/s\u001b[0m eta \u001b[36m0:00:00\u001b[0m\n",
            "\u001b[?25h  Installing build dependencies ... \u001b[?25l\u001b[?25hdone\n",
            "  Getting requirements to build wheel ... \u001b[?25l\u001b[?25hdone\n",
            "  Preparing metadata (pyproject.toml) ... \u001b[?25l\u001b[?25hdone\n",
            "Requirement already satisfied: scikit-learn in /usr/local/lib/python3.11/dist-packages (1.6.1)\n",
            "Requirement already satisfied: pandas in /usr/local/lib/python3.11/dist-packages (2.2.2)\n",
            "Collecting pybind11>=2.2 (from fasttext)\n",
            "  Using cached pybind11-2.13.6-py3-none-any.whl.metadata (9.5 kB)\n",
            "Requirement already satisfied: setuptools>=0.7.0 in /usr/local/lib/python3.11/dist-packages (from fasttext) (75.2.0)\n",
            "Requirement already satisfied: numpy in /usr/local/lib/python3.11/dist-packages (from fasttext) (2.0.2)\n",
            "Requirement already satisfied: scipy>=1.6.0 in /usr/local/lib/python3.11/dist-packages (from scikit-learn) (1.14.1)\n",
            "Requirement already satisfied: joblib>=1.2.0 in /usr/local/lib/python3.11/dist-packages (from scikit-learn) (1.4.2)\n",
            "Requirement already satisfied: threadpoolctl>=3.1.0 in /usr/local/lib/python3.11/dist-packages (from scikit-learn) (3.6.0)\n",
            "Requirement already satisfied: python-dateutil>=2.8.2 in /usr/local/lib/python3.11/dist-packages (from pandas) (2.8.2)\n",
            "Requirement already satisfied: pytz>=2020.1 in /usr/local/lib/python3.11/dist-packages (from pandas) (2025.2)\n",
            "Requirement already satisfied: tzdata>=2022.7 in /usr/local/lib/python3.11/dist-packages (from pandas) (2025.2)\n",
            "Requirement already satisfied: six>=1.5 in /usr/local/lib/python3.11/dist-packages (from python-dateutil>=2.8.2->pandas) (1.17.0)\n",
            "Using cached pybind11-2.13.6-py3-none-any.whl (243 kB)\n",
            "Building wheels for collected packages: fasttext\n",
            "  Building wheel for fasttext (pyproject.toml) ... \u001b[?25l\u001b[?25hdone\n",
            "  Created wheel for fasttext: filename=fasttext-0.9.3-cp311-cp311-linux_x86_64.whl size=4313487 sha256=671517538cf37a6ea559b3f6764a7b085e51408d2a40d833314364f3147c7166\n",
            "  Stored in directory: /root/.cache/pip/wheels/65/4f/35/5057db0249224e9ab55a513fa6b79451473ceb7713017823c3\n",
            "Successfully built fasttext\n",
            "Installing collected packages: pybind11, fasttext\n",
            "Successfully installed fasttext-0.9.3 pybind11-2.13.6\n"
          ]
        }
      ]
    },
    {
      "cell_type": "code",
      "source": [
        "import pandas as pd\n",
        "import re\n",
        "import fasttext\n",
        "import numpy as np\n",
        "from sklearn.model_selection import train_test_split\n",
        "from sklearn.metrics import accuracy_score, classification_report\n",
        "from sklearn.preprocessing import LabelEncoder\n",
        "from tensorflow.keras.models import Sequential\n",
        "from tensorflow.keras.layers import Dense, LSTM, Dropout, Input\n",
        "from tensorflow.keras.callbacks import EarlyStopping\n",
        "import matplotlib.pyplot as plt\n",
        "import seaborn as sns\n",
        "from sklearn.metrics import confusion_matrix\n",
        "\n",
        "# Fungsi untuk membersihkan teks dari karakter yang tidak dibutuhkan\n",
        "def clean_text(text):\n",
        "    text = text.lower()\n",
        "    text = re.sub(r\"http\\S+|@\\w+|[^a-z\\s]\", \" \", text)\n",
        "    text = re.sub(r\"[^\\x00-\\x7F]+\", \"\", text)\n",
        "    text = text.replace(\"\\n\", \" \")\n",
        "    return text.strip()\n",
        "\n",
        "# Load dataset dari file CSV\n",
        "print(\"Loading dataset...\")\n",
        "df = pd.read_csv(\"labeled_comments.csv\")\n",
        "df.dropna(inplace=True)\n",
        "df[\"cleaned\"] = df[\"comments\"].apply(clean_text)\n",
        "df = df[df[\"cleaned\"].str.strip().astype(bool)]\n",
        "\n",
        "# Encode label ke bentuk numerik\n",
        "le = LabelEncoder()\n",
        "df[\"label_enc\"] = le.fit_transform(df[\"label\"])\n",
        "y = df[\"label_enc\"]\n",
        "\n",
        "# Latih model FastText\n",
        "print(\"Training FastText...\")\n",
        "df_fasttext = df[[\"cleaned\", \"label_enc\"]].copy()\n",
        "df_fasttext[\"fasttext\"] = \"__label__\" + df_fasttext[\"label_enc\"].astype(str) + \" \" + df_fasttext[\"cleaned\"]\n",
        "df_fasttext[\"fasttext\"].to_csv(\"fasttext_train.txt\", index=False, header=False)\n",
        "\n",
        "ft_model = fasttext.train_supervised(input=\"fasttext_train.txt\", epoch=10, lr=1.0, wordNgrams=2, verbose=1)\n",
        "\n",
        "# Ambil representasi vektor dari setiap komentar\n",
        "X = np.vstack([ft_model.get_sentence_vector(text) for text in df[\"cleaned\"]])\n",
        "\n",
        "# Bagi data jadi data latih dan data uji\n",
        "print(\"Splitting dataset...\")\n",
        "X_train, X_test, y_train, y_test = train_test_split(X, y, test_size=0.1, stratify=y, random_state=42)\n",
        "\n",
        "# Ubah label ke bentuk one-hot encoding (untuk multi-kelas)\n",
        "from tensorflow.keras.utils import to_categorical\n",
        "num_classes = len(np.unique(y))\n",
        "y_train_cat = to_categorical(y_train, num_classes)\n",
        "y_test_cat = to_categorical(y_test, num_classes)\n",
        "\n",
        "# Bangun model deep learning berbasis LSTM\n",
        "print(\"Training model LSTM...\")\n",
        "model = Sequential([\n",
        "    Input(shape=(X_train.shape[1], 1)),\n",
        "    LSTM(64, return_sequences=False),\n",
        "    Dropout(0.5),\n",
        "    Dense(num_classes, activation=\"softmax\")\n",
        "])\n",
        "\n",
        "model.compile(optimizer='adam', loss='categorical_crossentropy', metrics=['accuracy'])\n",
        "\n",
        "# Sesuaikan bentuk input untuk LSTM\n",
        "X_train_r = X_train.reshape(X_train.shape[0], X_train.shape[1], 1)\n",
        "X_test_r = X_test.reshape(X_test.shape[0], X_test.shape[1], 1)\n",
        "\n",
        "# Latih model\n",
        "history = model.fit(\n",
        "    X_train_r, y_train_cat,\n",
        "    validation_split=0.1,\n",
        "    epochs=10,\n",
        "    batch_size=32,\n",
        "    callbacks=[EarlyStopping(patience=3, restore_best_weights=True)],\n",
        "    verbose=1\n",
        ")\n",
        "\n",
        "# Evaluasi model terhadap data uji\n",
        "print(\"Evaluating model...\")\n",
        "y_pred_probs = model.predict(X_test_r)\n",
        "y_pred = np.argmax(y_pred_probs, axis=1)\n",
        "\n",
        "print(\"Accuracy:\", accuracy_score(y_test, y_pred))\n",
        "print(classification_report(y_test, y_pred, target_names=le.classes_))\n",
        "\n",
        "# Tampilkan confusion matrix\n",
        "cm = confusion_matrix(y_test, y_pred)\n",
        "plt.figure(figsize=(6, 4))\n",
        "sns.heatmap(cm, annot=True, fmt=\"d\", cmap=\"Blues\", xticklabels=le.classes_, yticklabels=le.classes_)\n",
        "plt.title(\"Confusion Matrix\")\n",
        "plt.xlabel(\"Predicted\")\n",
        "plt.ylabel(\"Actual\")\n",
        "plt.tight_layout()\n",
        "plt.show()\n"
      ],
      "metadata": {
        "colab": {
          "base_uri": "https://localhost:8080/",
          "height": 1000
        },
        "id": "3-ToZEAwfYNc",
        "outputId": "750b0463-ec89-4107-d6c4-8c2be4f612e5"
      },
      "execution_count": null,
      "outputs": [
        {
          "output_type": "stream",
          "name": "stdout",
          "text": [
            "Loading dataset...\n",
            "Training FastText...\n",
            "Splitting dataset...\n",
            "Training model LSTM...\n",
            "Epoch 1/10\n",
            "\u001b[1m300/300\u001b[0m \u001b[32m━━━━━━━━━━━━━━━━━━━━\u001b[0m\u001b[37m\u001b[0m \u001b[1m35s\u001b[0m 96ms/step - accuracy: 0.5926 - loss: 0.8138 - val_accuracy: 0.8515 - val_loss: 0.3689\n",
            "Epoch 2/10\n",
            "\u001b[1m300/300\u001b[0m \u001b[32m━━━━━━━━━━━━━━━━━━━━\u001b[0m\u001b[37m\u001b[0m \u001b[1m26s\u001b[0m 46ms/step - accuracy: 0.9423 - loss: 0.1817 - val_accuracy: 0.9690 - val_loss: 0.0830\n",
            "Epoch 3/10\n",
            "\u001b[1m300/300\u001b[0m \u001b[32m━━━━━━━━━━━━━━━━━━━━\u001b[0m\u001b[37m\u001b[0m \u001b[1m21s\u001b[0m 48ms/step - accuracy: 0.9616 - loss: 0.1169 - val_accuracy: 0.9859 - val_loss: 0.0591\n",
            "Epoch 4/10\n",
            "\u001b[1m300/300\u001b[0m \u001b[32m━━━━━━━━━━━━━━━━━━━━\u001b[0m\u001b[37m\u001b[0m \u001b[1m20s\u001b[0m 45ms/step - accuracy: 0.9802 - loss: 0.0751 - val_accuracy: 0.9746 - val_loss: 0.0957\n",
            "Epoch 5/10\n",
            "\u001b[1m300/300\u001b[0m \u001b[32m━━━━━━━━━━━━━━━━━━━━\u001b[0m\u001b[37m\u001b[0m \u001b[1m26s\u001b[0m 63ms/step - accuracy: 0.9821 - loss: 0.0664 - val_accuracy: 0.9709 - val_loss: 0.0930\n",
            "Epoch 6/10\n",
            "\u001b[1m300/300\u001b[0m \u001b[32m━━━━━━━━━━━━━━━━━━━━\u001b[0m\u001b[37m\u001b[0m \u001b[1m16s\u001b[0m 47ms/step - accuracy: 0.9803 - loss: 0.0690 - val_accuracy: 0.9887 - val_loss: 0.0434\n",
            "Epoch 7/10\n",
            "\u001b[1m300/300\u001b[0m \u001b[32m━━━━━━━━━━━━━━━━━━━━\u001b[0m\u001b[37m\u001b[0m \u001b[1m14s\u001b[0m 47ms/step - accuracy: 0.9863 - loss: 0.0521 - val_accuracy: 0.9859 - val_loss: 0.0558\n",
            "Epoch 8/10\n",
            "\u001b[1m300/300\u001b[0m \u001b[32m━━━━━━━━━━━━━━━━━━━━\u001b[0m\u001b[37m\u001b[0m \u001b[1m14s\u001b[0m 46ms/step - accuracy: 0.9881 - loss: 0.0516 - val_accuracy: 0.9878 - val_loss: 0.0429\n",
            "Epoch 9/10\n",
            "\u001b[1m300/300\u001b[0m \u001b[32m━━━━━━━━━━━━━━━━━━━━\u001b[0m\u001b[37m\u001b[0m \u001b[1m21s\u001b[0m 47ms/step - accuracy: 0.9880 - loss: 0.0471 - val_accuracy: 0.9803 - val_loss: 0.0562\n",
            "Epoch 10/10\n",
            "\u001b[1m300/300\u001b[0m \u001b[32m━━━━━━━━━━━━━━━━━━━━\u001b[0m\u001b[37m\u001b[0m \u001b[1m14s\u001b[0m 46ms/step - accuracy: 0.9889 - loss: 0.0397 - val_accuracy: 0.9897 - val_loss: 0.0357\n",
            "Evaluating model...\n",
            "\u001b[1m37/37\u001b[0m \u001b[32m━━━━━━━━━━━━━━━━━━━━\u001b[0m\u001b[37m\u001b[0m \u001b[1m1s\u001b[0m 20ms/step\n",
            "Accuracy: 0.988155668358714\n",
            "              precision    recall  f1-score   support\n",
            "\n",
            "     negatif       0.99      0.99      0.99       500\n",
            "      netral       0.99      0.98      0.99       300\n",
            "     positif       0.98      0.98      0.98       382\n",
            "\n",
            "    accuracy                           0.99      1182\n",
            "   macro avg       0.99      0.99      0.99      1182\n",
            "weighted avg       0.99      0.99      0.99      1182\n",
            "\n"
          ]
        },
        {
          "output_type": "display_data",
          "data": {
            "text/plain": [
              "<Figure size 600x400 with 2 Axes>"
            ],
            "image/png": "[encoded data removed]"
          },
          "metadata": {}
        }
      ]
    },
    {
      "cell_type": "markdown",
      "source": [
        "## Text Classification menggunakan FastText dan TF-IDF"
      ],
      "metadata": {
        "id": "W2TzxIedlewa"
      }
    },
    {
      "cell_type": "code",
      "source": [
        "import pandas as pd\n",
        "import numpy as np\n",
        "import re\n",
        "import fasttext\n",
        "from sklearn.feature_extraction.text import TfidfVectorizer\n",
        "from sklearn.model_selection import train_test_split\n",
        "from sklearn.preprocessing import LabelEncoder\n",
        "from sklearn.metrics import classification_report, accuracy_score, confusion_matrix\n",
        "import matplotlib.pyplot as plt\n",
        "import seaborn as sns\n",
        "from sklearn.ensemble import RandomForestClassifier\n",
        "\n",
        "# Fungsi untuk membersihkan teks dari karakter yang tidak diperlukan\n",
        "def clean_text(text):\n",
        "    text = text.lower()\n",
        "    text = re.sub(r\"http\\S+|@\\w+|[^a-z\\s]\", \" \", text)\n",
        "    text = re.sub(r\"[^\\x00-\\x7F]+\", \"\", text)\n",
        "    text = text.replace(\"\\n\", \" \")\n",
        "    return text.strip()\n",
        "\n",
        "# Load data komentar\n",
        "print(\"Loading dataset...\")\n",
        "df = pd.read_csv(\"labeled_comments.csv\")\n",
        "df.dropna(inplace=True)\n",
        "df[\"cleaned\"] = df[\"comments\"].apply(clean_text)\n",
        "df = df[df[\"cleaned\"].str.strip().astype(bool)]\n",
        "\n",
        "# Encode label ke angka\n",
        "le = LabelEncoder()\n",
        "df[\"label_enc\"] = le.fit_transform(df[\"label\"])\n",
        "y = df[\"label_enc\"]\n",
        "\n",
        "# TF-IDF: ubah teks menjadi fitur berdasarkan bobot kata\n",
        "print(\"Mengubah teks ke fitur dengan TF-IDF...\")\n",
        "tfidf = TfidfVectorizer(max_features=5000)\n",
        "X_tfidf = tfidf.fit_transform(df[\"cleaned\"]).toarray()\n",
        "\n",
        "# Latih model FastText untuk ambil representasi kalimat\n",
        "print(\"Melatih FastText dan mengambil representasi kalimat...\")\n",
        "df_fasttext = df[[\"cleaned\", \"label_enc\"]].copy()\n",
        "df_fasttext[\"fasttext\"] = \"__label__\" + df_fasttext[\"label_enc\"].astype(str) + \" \" + df_fasttext[\"cleaned\"]\n",
        "df_fasttext[\"fasttext\"].to_csv(\"fasttext_train.txt\", index=False, header=False)\n",
        "\n",
        "ft_model = fasttext.train_supervised(input=\"fasttext_train.txt\", epoch=10, lr=1.0, wordNgrams=2, verbose=1)\n",
        "X_ft = np.vstack([ft_model.get_sentence_vector(text) for text in df[\"cleaned\"]])\n",
        "\n",
        "# Gabungkan fitur TF-IDF dan FastText\n",
        "print(\"Menggabungkan fitur TF-IDF dan FastText...\")\n",
        "X_combined = np.concatenate([X_tfidf, X_ft], axis=1)\n",
        "\n",
        "# Bagi data menjadi data latih dan data uji\n",
        "X_train, X_test, y_train, y_test = train_test_split(X_combined, y, test_size=0.2, stratify=y, random_state=42)\n",
        "\n",
        "# Latih model klasifikasi (Random Forest)\n",
        "print(\"Melatih model klasifikasi dengan Random Forest...\")\n",
        "clf = RandomForestClassifier(n_estimators=100, random_state=42)\n",
        "clf.fit(X_train, y_train)\n",
        "\n",
        "# Evaluasi hasil prediksi\n",
        "y_pred = clf.predict(X_test)\n",
        "print(\"Akurasi:\", accuracy_score(y_test, y_pred))\n",
        "print(classification_report(y_test, y_pred, target_names=le.classes_))\n",
        "\n",
        "# Tampilkan confusion matrix\n",
        "cm = confusion_matrix(y_test, y_pred)\n",
        "plt.figure(figsize=(6, 4))\n",
        "sns.heatmap(cm, annot=True, fmt=\"d\", cmap=\"Blues\", xticklabels=le.classes_, yticklabels=le.classes_)\n",
        "plt.title(\"Confusion Matrix\")\n",
        "plt.xlabel(\"Predicted\")\n",
        "plt.ylabel(\"Actual\")\n",
        "plt.tight_layout()\n",
        "plt.show()\n"
      ],
      "metadata": {
        "colab": {
          "base_uri": "https://localhost:8080/",
          "height": 685
        },
        "id": "yh-yYjZ_lpvZ",
        "outputId": "b1fd9930-0d34-49d6-b929-9535b9cfb55d"
      },
      "execution_count": null,
      "outputs": [
        {
          "output_type": "stream",
          "name": "stdout",
          "text": [
            "Loading dataset...\n",
            "Mengubah teks ke fitur dengan TF-IDF...\n",
            "Melatih FastText dan mengambil representasi kalimat...\n",
            "Menggabungkan fitur TF-IDF dan FastText...\n",
            "Melatih model klasifikasi dengan Random Forest...\n",
            "Akurasi: 0.9945008460236887\n",
            "              precision    recall  f1-score   support\n",
            "\n",
            "     negatif       1.00      1.00      1.00      1000\n",
            "      netral       0.99      1.00      0.99       599\n",
            "     positif       0.99      0.99      0.99       765\n",
            "\n",
            "    accuracy                           0.99      2364\n",
            "   macro avg       0.99      0.99      0.99      2364\n",
            "weighted avg       0.99      0.99      0.99      2364\n",
            "\n"
          ]
        },
        {
          "output_type": "display_data",
          "data": {
            "text/plain": [
              "<Figure size 600x400 with 2 Axes>"
            ],
            "image/png": "[encoded data removed]"
          },
          "metadata": {}
        }
      ]
    },
    {
      "cell_type": "markdown",
      "source": [
        "## Text Classification menggunakan FastText dan LinearSVC"
      ],
      "metadata": {
        "id": "D_klCiMGgYgY"
      }
    },
    {
      "cell_type": "code",
      "source": [
        "import pandas as pd\n",
        "import re\n",
        "import fasttext\n",
        "import numpy as np\n",
        "from sklearn.model_selection import train_test_split\n",
        "from sklearn.svm import LinearSVC\n",
        "from sklearn.metrics import accuracy_score, classification_report\n",
        "from sklearn.preprocessing import LabelEncoder\n",
        "import matplotlib.pyplot as plt\n",
        "import seaborn as sns\n",
        "from sklearn.metrics import confusion_matrix\n",
        "\n",
        "print(\"Loading dataset...\")\n",
        "df = pd.read_csv(\"labeled_comments.csv\")\n",
        "df.dropna(inplace=True)\n",
        "\n",
        "# Preprocessing\n",
        "df[\"cleaned\"] = df[\"comments\"].apply(clean_text)\n",
        "df = df[df[\"cleaned\"].str.strip().astype(bool)]\n",
        "\n",
        "# Encode label\n",
        "le = LabelEncoder()\n",
        "df[\"label_enc\"] = le.fit_transform(df[\"label\"])\n",
        "y = df[\"label_enc\"]\n",
        "\n",
        "# Simpan format ke file .txt untuk fastText\n",
        "df_fasttext = df[[\"cleaned\", \"label_enc\"]].copy()\n",
        "df_fasttext.loc[:, \"fasttext\"] = \"__label__\" + df_fasttext[\"label_enc\"].astype(str) + \" \" + df_fasttext[\"cleaned\"]\n",
        "df_fasttext[\"fasttext\"].to_csv(\"fasttext_train.txt\", index=False, header=False)\n",
        "\n",
        "# Train FastText\n",
        "print(\"Training FastText...\")\n",
        "ft_model = fasttext.train_supervised(input=\"fasttext_train.txt\", epoch=10, lr=1.0, wordNgrams=2, verbose=1)\n",
        "\n",
        "# Hapus newline dari kalimat sebelum masuk ke get_sentence_vector\n",
        "X_vectors = np.vstack([ft_model.get_sentence_vector(text.replace(\"\\n\", \" \")) for text in df[\"cleaned\"]])\n",
        "\n",
        "# Train-test split\n",
        "print(\"Splitting dataset...\")\n",
        "X_train, X_test, y_train, y_test = train_test_split(X_vectors, y, test_size=0.1, stratify=y, random_state=42)\n",
        "\n",
        "# Train classifier\n",
        "print(\"Training LinearSVC...\")\n",
        "clf = LinearSVC()\n",
        "clf.fit(X_train, y_train)\n",
        "\n",
        "# Evaluate\n",
        "y_pred = clf.predict(X_test)\n",
        "print(\"Accuracy [FastText]:\", accuracy_score(y_test, y_pred))\n",
        "print(classification_report(y_test, y_pred, target_names=le.classes_))\n",
        "\n",
        "# Confusion Matrix\n",
        "cm = confusion_matrix(y_test, y_pred)\n",
        "plt.figure(figsize=(6, 4))\n",
        "sns.heatmap(cm, annot=True, fmt=\"d\", cmap=\"Blues\", xticklabels=le.classes_, yticklabels=le.classes_)\n",
        "plt.title(\"Confusion Matrix\")\n",
        "plt.xlabel(\"Predicted Label\")\n",
        "plt.ylabel(\"True Label\")\n",
        "plt.tight_layout()\n",
        "plt.show()"
      ],
      "metadata": {
        "colab": {
          "base_uri": "https://localhost:8080/",
          "height": 667
        },
        "id": "3Nat3S4ocYTN",
        "outputId": "784c0477-8c45-494c-89bf-6f76b29ed647"
      },
      "execution_count": null,
      "outputs": [
        {
          "output_type": "stream",
          "name": "stdout",
          "text": [
            "Loading dataset...\n",
            "Training FastText...\n",
            "Splitting dataset...\n",
            "Training LinearSVC...\n",
            "Accuracy [FastText]: 0.9949238578680203\n",
            "              precision    recall  f1-score   support\n",
            "\n",
            "     negatif       1.00      1.00      1.00       500\n",
            "      netral       1.00      0.99      0.99       300\n",
            "     positif       0.99      0.99      0.99       382\n",
            "\n",
            "    accuracy                           0.99      1182\n",
            "   macro avg       0.99      0.99      0.99      1182\n",
            "weighted avg       0.99      0.99      0.99      1182\n",
            "\n"
          ]
        },
        {
          "output_type": "display_data",
          "data": {
            "text/plain": [
              "<Figure size 600x400 with 2 Axes>"
            ],
            "image/png": "[encoded data removed]"
          },
          "metadata": {}
        }
      ]
    },
    {
      "cell_type": "markdown",
      "source": [
        "## Text Classification menggunakan TF-IDF dan SVM"
      ],
      "metadata": {
        "id": "wQHaO6j2gum7"
      }
    },
    {
      "cell_type": "code",
      "source": [
        "import pandas as pd\n",
        "import re\n",
        "from sklearn.model_selection import train_test_split\n",
        "from sklearn.metrics import accuracy_score, classification_report, confusion_matrix\n",
        "from sklearn.preprocessing import LabelEncoder\n",
        "from sklearn.feature_extraction.text import TfidfVectorizer\n",
        "from sklearn.svm import LinearSVC\n",
        "import matplotlib.pyplot as plt\n",
        "import seaborn as sns\n",
        "\n",
        "# Fungsi untuk membersihkan teks komentar\n",
        "def clean_text(text):\n",
        "    text = text.lower()\n",
        "    text = re.sub(r\"http\\S+|@\\w+|[^a-z\\s]\", \" \", text)\n",
        "    text = re.sub(r\"[^\\x00-\\x7F]+\", \"\", text)\n",
        "    text = text.replace(\"\\n\", \" \")\n",
        "    return text.strip()\n",
        "\n",
        "# Membaca dan membersihkan dataset\n",
        "print(\"Loading dataset...\")\n",
        "df = pd.read_csv(\"labeled_comments.csv\")\n",
        "df.dropna(inplace=True)\n",
        "df[\"cleaned\"] = df[\"comments\"].apply(clean_text)\n",
        "df = df[df[\"cleaned\"].str.strip().astype(bool)]\n",
        "\n",
        "# Encode label menjadi angka\n",
        "le = LabelEncoder()\n",
        "df[\"label_enc\"] = le.fit_transform(df[\"label\"])\n",
        "y = df[\"label_enc\"]\n",
        "\n",
        "# Ekstraksi fitur dengan TF-IDF\n",
        "print(\"Melakukan vektorisasi teks dengan TF-IDF...\")\n",
        "tfidf = TfidfVectorizer(max_features=5000)\n",
        "X = tfidf.fit_transform(df[\"cleaned\"])\n",
        "\n",
        "# Split data menjadi latih dan uji\n",
        "print(\"Membagi dataset (80% latih, 20% uji)...\")\n",
        "X_train, X_test, y_train, y_test = train_test_split(\n",
        "    X, y, test_size=0.15, stratify=y, random_state=42\n",
        ")\n",
        "\n",
        "# Melatih model klasifikasi menggunakan LinearSVC\n",
        "print(\"Melatih model dengan LinearSVC...\")\n",
        "svm_model = LinearSVC(C=1, random_state=42, dual=False, max_iter=1000)\n",
        "svm_model.fit(X_train, y_train)\n",
        "\n",
        "# Evaluasi model\n",
        "y_pred = svm_model.predict(X_test)\n",
        "print(\"Akurasi model (TF-IDF + LinearSVC):\", accuracy_score(y_test, y_pred))\n",
        "print(classification_report(y_test, y_pred, target_names=le.classes_))\n",
        "\n",
        "# Plot confusion matrix untuk melihat performa prediksi\n",
        "cm = confusion_matrix(y_test, y_pred)\n",
        "plt.figure(figsize=(6, 4))\n",
        "sns.heatmap(cm, annot=True, fmt=\"d\", cmap=\"Blues\",\n",
        "            xticklabels=le.classes_, yticklabels=le.classes_)\n",
        "plt.title(\"Confusion Matrix (TF-IDF + LinearSVC)\")\n",
        "plt.xlabel(\"Label Prediksi\")\n",
        "plt.ylabel(\"Label Sebenarnya\")\n",
        "plt.tight_layout()\n",
        "plt.show()\n"
      ],
      "metadata": {
        "colab": {
          "base_uri": "https://localhost:8080/",
          "height": 667
        },
        "id": "jdsFl_g8hMmC",
        "outputId": "646cef31-2956-4f36-c0eb-211da6c432bc"
      },
      "execution_count": null,
      "outputs": [
        {
          "output_type": "stream",
          "name": "stdout",
          "text": [
            "Loading dataset...\n",
            "Melakukan vektorisasi teks dengan TF-IDF...\n",
            "Membagi dataset (80% latih, 20% uji)...\n",
            "Melatih model dengan LinearSVC...\n",
            "Akurasi model (TF-IDF + LinearSVC): 0.7241962774957699\n",
            "              precision    recall  f1-score   support\n",
            "\n",
            "     negatif       0.77      0.80      0.78       750\n",
            "      netral       0.67      0.64      0.65       449\n",
            "     positif       0.71      0.69      0.70       574\n",
            "\n",
            "    accuracy                           0.72      1773\n",
            "   macro avg       0.71      0.71      0.71      1773\n",
            "weighted avg       0.72      0.72      0.72      1773\n",
            "\n"
          ]
        },
        {
          "output_type": "display_data",
          "data": {
            "text/plain": [
              "<Figure size 600x400 with 2 Axes>"
            ],
            "image/png": "[encoded data removed]"
          },
          "metadata": {}
        }
      ]
    },
    {
      "cell_type": "markdown",
      "source": [
        "##Text Classification menggunakan TF-IDF dan Support Vector Machine (SVM)"
      ],
      "metadata": {
        "id": "0Jbh3iu8kEmA"
      }
    },
    {
      "cell_type": "code",
      "source": [
        "# Import library yang dibutuhkan\n",
        "import pandas as pd\n",
        "import time\n",
        "from sklearn.feature_extraction.text import TfidfVectorizer\n",
        "from sklearn.svm import LinearSVC\n",
        "from sklearn.metrics import accuracy_score, classification_report, confusion_matrix\n",
        "from sklearn.model_selection import train_test_split\n",
        "from tqdm import tqdm\n",
        "import matplotlib.pyplot as plt\n",
        "import seaborn as sns\n",
        "\n",
        "# Load dataset\n",
        "print(\"Memuat dataset...\")\n",
        "df = pd.read_csv('labeled_comments.csv')\n",
        "df.dropna(inplace=True)\n",
        "\n",
        "# Gunakan seluruh data (atau sampling jika perlu)\n",
        "df_sample = df.copy()\n",
        "\n",
        "# Vektorisasi teks dengan TF-IDF\n",
        "print(\"Melakukan vektorisasi teks dengan TF-IDF...\")\n",
        "tfidf = TfidfVectorizer(max_features=5000, ngram_range=(1, 2))\n",
        "X_tfidf = tfidf.fit_transform(tqdm(df_sample['cleaned'], desc=\"Proses TF-IDF\"))\n",
        "y = df_sample['label_enc']\n",
        "\n",
        "# Split data\n",
        "print(\"Membagi data menjadi data latih dan data uji...\")\n",
        "X_train, X_test, y_train, y_test = train_test_split(\n",
        "    X_tfidf, y, test_size=0.1, random_state=42, stratify=y\n",
        ")\n",
        "\n",
        "# Training model\n",
        "print(\"Melatih model LinearSVC...\")\n",
        "svm_model = LinearSVC(C=1, max_iter=1000, dual=False, random_state=42, tol=1e-4)\n",
        "svm_model.fit(X_train, y_train)\n",
        "\n",
        "# Evaluasi model\n",
        "print(\"Evaluasi performa model...\")\n",
        "y_pred_svm = svm_model.predict(X_test)\n",
        "print(\"Akurasi [LinearSVC + TF-IDF]:\", accuracy_score(y_test, y_pred_svm))\n",
        "\n",
        "# Classification report\n",
        "try:\n",
        "    print(classification_report(y_test, y_pred_svm, target_names=le.classes_))\n",
        "except:\n",
        "    print(classification_report(y_test, y_pred_svm))\n",
        "\n",
        "# Confusion Matrix (Heatmap)\n",
        "print(\"Menampilkan confusion matrix...\")\n",
        "cm = confusion_matrix(y_test, y_pred_svm)\n",
        "\n",
        "plt.figure(figsize=(6, 4))\n",
        "sns.heatmap(cm, annot=True, fmt=\"d\", cmap=\"Blues\",\n",
        "            xticklabels=getattr(le, 'classes_', sorted(set(y))),\n",
        "            yticklabels=getattr(le, 'classes_', sorted(set(y))))\n",
        "plt.title(\"Confusion Matrix (LinearSVC + TF-IDF)\")\n",
        "plt.xlabel(\"Prediksi\")\n",
        "plt.ylabel(\"Label Sebenarnya\")\n",
        "plt.tight_layout()\n",
        "plt.show()\n"
      ],
      "metadata": {
        "colab": {
          "base_uri": "https://localhost:8080/",
          "height": 719
        },
        "id": "RdS4ZGpCkA8a",
        "outputId": "9631024a-45f8-49c9-d692-0aaabae77a22"
      },
      "execution_count": null,
      "outputs": [
        {
          "output_type": "stream",
          "name": "stdout",
          "text": [
            "Memuat dataset...\n",
            "Melakukan vektorisasi teks dengan TF-IDF...\n"
          ]
        },
        {
          "output_type": "stream",
          "name": "stderr",
          "text": [
            "Proses TF-IDF: 100%|██████████| 11817/11817 [00:00<00:00, 26177.67it/s]\n"
          ]
        },
        {
          "output_type": "stream",
          "name": "stdout",
          "text": [
            "Membagi data menjadi data latih dan data uji...\n",
            "Melatih model LinearSVC...\n",
            "Evaluasi performa model...\n",
            "Akurasi [LinearSVC + TF-IDF]: 0.739424703891709\n",
            "              precision    recall  f1-score   support\n",
            "\n",
            "     negatif       0.78      0.81      0.79       500\n",
            "      netral       0.67      0.64      0.66       300\n",
            "     positif       0.73      0.73      0.73       382\n",
            "\n",
            "    accuracy                           0.74      1182\n",
            "   macro avg       0.73      0.73      0.73      1182\n",
            "weighted avg       0.74      0.74      0.74      1182\n",
            "\n",
            "Menampilkan confusion matrix...\n"
          ]
        },
        {
          "output_type": "display_data",
          "data": {
            "text/plain": [
              "<Figure size 600x400 with 2 Axes>"
            ],
            "image/png": "[encoded data removed]"
          },
          "metadata": {}
        }
      ]
    },
    {
      "cell_type": "markdown",
      "source": [
        "Text classification yang menggunakan Model gabungan Fasttext memenuhi tingkat akurasi diatas 92% sementara untuk model gabungan lain memilliki rata\" tingkat akurasi di 70%\n",
        "\n",
        "jika didistribusikan menggunakan sentimen asli, maka persepsi orang terhadap video willie salim adalah sebagai berikut:\n",
        "\n",
        "negatif: (500 / 1182) * 100 ≈ 42.29%\n",
        "\n",
        "netral: (300 / 1182) * 100 ≈ 25.38%\n",
        "\n",
        "positif: Positif\t382\t(382 / 1182) * 100 ≈ 32.33%\n",
        "\n",
        "dengan total data 1182 sampel\n",
        "\n",
        "sehingga: penonton lebih sering menyuarakan opini negatif daripada yang positif atau netral"
      ],
      "metadata": {
        "id": "6BSfQY8axIoK"
      }
    }
  ]
}